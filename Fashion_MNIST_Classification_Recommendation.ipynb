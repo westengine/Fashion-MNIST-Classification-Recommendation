{
  "nbformat": 4,
  "nbformat_minor": 0,
  "metadata": {
    "colab": {
      "provenance": [],
      "mount_file_id": "1O8oFqy-F5VsxhlEwdD6wpzafFcMLFOSE",
      "authorship_tag": "ABX9TyMXlQZpdWqY/25PnMecuIhj",
      "include_colab_link": true
    },
    "kernelspec": {
      "name": "python3",
      "display_name": "Python 3"
    },
    "language_info": {
      "name": "python"
    }
  },
  "cells": [
    {
      "cell_type": "markdown",
      "metadata": {
        "id": "view-in-github",
        "colab_type": "text"
      },
      "source": [
        "<a href=\"https://colab.research.google.com/github/westengine/Fashion-MNIST-Classification-Recommendation/blob/main/Fashion_MNIST_Classification_Recommendation.ipynb\" target=\"_parent\"><img src=\"https://colab.research.google.com/assets/colab-badge.svg\" alt=\"Open In Colab\"/></a>"
      ]
    },
    {
      "cell_type": "markdown",
      "source": [
        "# **Installation and Importing Libraries**\n",
        "This section installs necessary Python libraries (`gradio`, `lightfm`) and imports essential modules for data manipulation, visualization, and machine learning. Libraries like `tensorflow`, `pandas`, `numpy`, and `matplotlib` are used for data processing and visualization. `scikit-learn` provides tools for data preprocessing and model evaluation."
      ],
      "metadata": {
        "id": "I2G0DzeP0NvV"
      }
    },
    {
      "cell_type": "code",
      "execution_count": null,
      "metadata": {
        "id": "ibzGAMwuTtQe",
        "colab": {
          "base_uri": "https://localhost:8080/"
        },
        "outputId": "c1a1e145-61aa-4b2e-d1b9-79d45a387ce3"
      },
      "outputs": [
        {
          "output_type": "stream",
          "name": "stdout",
          "text": [
            "Collecting gradio\n",
            "  Downloading gradio-5.16.2-py3-none-any.whl.metadata (16 kB)\n",
            "Collecting lightfm\n",
            "  Downloading lightfm-1.17.tar.gz (316 kB)\n",
            "\u001b[2K     \u001b[90m━━━━━━━━━━━━━━━━━━━━━━━━━━━━━━━━━━━━━━━━\u001b[0m \u001b[32m316.4/316.4 kB\u001b[0m \u001b[31m12.3 MB/s\u001b[0m eta \u001b[36m0:00:00\u001b[0m\n",
            "\u001b[?25h  Preparing metadata (setup.py) ... \u001b[?25l\u001b[?25hdone\n",
            "Collecting aiofiles<24.0,>=22.0 (from gradio)\n",
            "  Downloading aiofiles-23.2.1-py3-none-any.whl.metadata (9.7 kB)\n",
            "Requirement already satisfied: anyio<5.0,>=3.0 in /usr/local/lib/python3.11/dist-packages (from gradio) (3.7.1)\n",
            "Collecting fastapi<1.0,>=0.115.2 (from gradio)\n",
            "  Downloading fastapi-0.115.8-py3-none-any.whl.metadata (27 kB)\n",
            "Collecting ffmpy (from gradio)\n",
            "  Downloading ffmpy-0.5.0-py3-none-any.whl.metadata (3.0 kB)\n",
            "Collecting gradio-client==1.7.1 (from gradio)\n",
            "  Downloading gradio_client-1.7.1-py3-none-any.whl.metadata (7.1 kB)\n",
            "Requirement already satisfied: httpx>=0.24.1 in /usr/local/lib/python3.11/dist-packages (from gradio) (0.28.1)\n",
            "Requirement already satisfied: huggingface-hub>=0.28.1 in /usr/local/lib/python3.11/dist-packages (from gradio) (0.28.1)\n",
            "Requirement already satisfied: jinja2<4.0 in /usr/local/lib/python3.11/dist-packages (from gradio) (3.1.5)\n",
            "Collecting markupsafe~=2.0 (from gradio)\n",
            "  Downloading MarkupSafe-2.1.5-cp311-cp311-manylinux_2_17_x86_64.manylinux2014_x86_64.whl.metadata (3.0 kB)\n",
            "Requirement already satisfied: numpy<3.0,>=1.0 in /usr/local/lib/python3.11/dist-packages (from gradio) (1.26.4)\n",
            "Requirement already satisfied: orjson~=3.0 in /usr/local/lib/python3.11/dist-packages (from gradio) (3.10.15)\n",
            "Requirement already satisfied: packaging in /usr/local/lib/python3.11/dist-packages (from gradio) (24.2)\n",
            "Requirement already satisfied: pandas<3.0,>=1.0 in /usr/local/lib/python3.11/dist-packages (from gradio) (2.2.2)\n",
            "Requirement already satisfied: pillow<12.0,>=8.0 in /usr/local/lib/python3.11/dist-packages (from gradio) (11.1.0)\n",
            "Requirement already satisfied: pydantic>=2.0 in /usr/local/lib/python3.11/dist-packages (from gradio) (2.10.6)\n",
            "Collecting pydub (from gradio)\n",
            "  Downloading pydub-0.25.1-py2.py3-none-any.whl.metadata (1.4 kB)\n",
            "Collecting python-multipart>=0.0.18 (from gradio)\n",
            "  Downloading python_multipart-0.0.20-py3-none-any.whl.metadata (1.8 kB)\n",
            "Requirement already satisfied: pyyaml<7.0,>=5.0 in /usr/local/lib/python3.11/dist-packages (from gradio) (6.0.2)\n",
            "Collecting ruff>=0.9.3 (from gradio)\n",
            "  Downloading ruff-0.9.6-py3-none-manylinux_2_17_x86_64.manylinux2014_x86_64.whl.metadata (25 kB)\n",
            "Collecting safehttpx<0.2.0,>=0.1.6 (from gradio)\n",
            "  Downloading safehttpx-0.1.6-py3-none-any.whl.metadata (4.2 kB)\n",
            "Collecting semantic-version~=2.0 (from gradio)\n",
            "  Downloading semantic_version-2.10.0-py2.py3-none-any.whl.metadata (9.7 kB)\n",
            "Collecting starlette<1.0,>=0.40.0 (from gradio)\n",
            "  Downloading starlette-0.45.3-py3-none-any.whl.metadata (6.3 kB)\n",
            "Collecting tomlkit<0.14.0,>=0.12.0 (from gradio)\n",
            "  Downloading tomlkit-0.13.2-py3-none-any.whl.metadata (2.7 kB)\n",
            "Requirement already satisfied: typer<1.0,>=0.12 in /usr/local/lib/python3.11/dist-packages (from gradio) (0.15.1)\n",
            "Requirement already satisfied: typing-extensions~=4.0 in /usr/local/lib/python3.11/dist-packages (from gradio) (4.12.2)\n",
            "Collecting uvicorn>=0.14.0 (from gradio)\n",
            "  Downloading uvicorn-0.34.0-py3-none-any.whl.metadata (6.5 kB)\n",
            "Requirement already satisfied: fsspec in /usr/local/lib/python3.11/dist-packages (from gradio-client==1.7.1->gradio) (2024.10.0)\n",
            "Requirement already satisfied: websockets<15.0,>=10.0 in /usr/local/lib/python3.11/dist-packages (from gradio-client==1.7.1->gradio) (14.2)\n",
            "Requirement already satisfied: scipy>=0.17.0 in /usr/local/lib/python3.11/dist-packages (from lightfm) (1.13.1)\n",
            "Requirement already satisfied: requests in /usr/local/lib/python3.11/dist-packages (from lightfm) (2.32.3)\n",
            "Requirement already satisfied: scikit-learn in /usr/local/lib/python3.11/dist-packages (from lightfm) (1.6.1)\n",
            "Requirement already satisfied: idna>=2.8 in /usr/local/lib/python3.11/dist-packages (from anyio<5.0,>=3.0->gradio) (3.10)\n",
            "Requirement already satisfied: sniffio>=1.1 in /usr/local/lib/python3.11/dist-packages (from anyio<5.0,>=3.0->gradio) (1.3.1)\n",
            "Requirement already satisfied: certifi in /usr/local/lib/python3.11/dist-packages (from httpx>=0.24.1->gradio) (2025.1.31)\n",
            "Requirement already satisfied: httpcore==1.* in /usr/local/lib/python3.11/dist-packages (from httpx>=0.24.1->gradio) (1.0.7)\n",
            "Requirement already satisfied: h11<0.15,>=0.13 in /usr/local/lib/python3.11/dist-packages (from httpcore==1.*->httpx>=0.24.1->gradio) (0.14.0)\n",
            "Requirement already satisfied: filelock in /usr/local/lib/python3.11/dist-packages (from huggingface-hub>=0.28.1->gradio) (3.17.0)\n",
            "Requirement already satisfied: tqdm>=4.42.1 in /usr/local/lib/python3.11/dist-packages (from huggingface-hub>=0.28.1->gradio) (4.67.1)\n",
            "Requirement already satisfied: python-dateutil>=2.8.2 in /usr/local/lib/python3.11/dist-packages (from pandas<3.0,>=1.0->gradio) (2.8.2)\n",
            "Requirement already satisfied: pytz>=2020.1 in /usr/local/lib/python3.11/dist-packages (from pandas<3.0,>=1.0->gradio) (2025.1)\n",
            "Requirement already satisfied: tzdata>=2022.7 in /usr/local/lib/python3.11/dist-packages (from pandas<3.0,>=1.0->gradio) (2025.1)\n",
            "Requirement already satisfied: annotated-types>=0.6.0 in /usr/local/lib/python3.11/dist-packages (from pydantic>=2.0->gradio) (0.7.0)\n",
            "Requirement already satisfied: pydantic-core==2.27.2 in /usr/local/lib/python3.11/dist-packages (from pydantic>=2.0->gradio) (2.27.2)\n",
            "Requirement already satisfied: click>=8.0.0 in /usr/local/lib/python3.11/dist-packages (from typer<1.0,>=0.12->gradio) (8.1.8)\n",
            "Requirement already satisfied: shellingham>=1.3.0 in /usr/local/lib/python3.11/dist-packages (from typer<1.0,>=0.12->gradio) (1.5.4)\n",
            "Requirement already satisfied: rich>=10.11.0 in /usr/local/lib/python3.11/dist-packages (from typer<1.0,>=0.12->gradio) (13.9.4)\n",
            "Requirement already satisfied: charset-normalizer<4,>=2 in /usr/local/lib/python3.11/dist-packages (from requests->lightfm) (3.4.1)\n",
            "Requirement already satisfied: urllib3<3,>=1.21.1 in /usr/local/lib/python3.11/dist-packages (from requests->lightfm) (2.3.0)\n",
            "Requirement already satisfied: joblib>=1.2.0 in /usr/local/lib/python3.11/dist-packages (from scikit-learn->lightfm) (1.4.2)\n",
            "Requirement already satisfied: threadpoolctl>=3.1.0 in /usr/local/lib/python3.11/dist-packages (from scikit-learn->lightfm) (3.5.0)\n",
            "Requirement already satisfied: six>=1.5 in /usr/local/lib/python3.11/dist-packages (from python-dateutil>=2.8.2->pandas<3.0,>=1.0->gradio) (1.17.0)\n",
            "Requirement already satisfied: markdown-it-py>=2.2.0 in /usr/local/lib/python3.11/dist-packages (from rich>=10.11.0->typer<1.0,>=0.12->gradio) (3.0.0)\n",
            "Requirement already satisfied: pygments<3.0.0,>=2.13.0 in /usr/local/lib/python3.11/dist-packages (from rich>=10.11.0->typer<1.0,>=0.12->gradio) (2.18.0)\n",
            "Requirement already satisfied: mdurl~=0.1 in /usr/local/lib/python3.11/dist-packages (from markdown-it-py>=2.2.0->rich>=10.11.0->typer<1.0,>=0.12->gradio) (0.1.2)\n",
            "Downloading gradio-5.16.2-py3-none-any.whl (62.2 MB)\n",
            "\u001b[2K   \u001b[90m━━━━━━━━━━━━━━━━━━━━━━━━━━━━━━━━━━━━━━━━\u001b[0m \u001b[32m62.2/62.2 MB\u001b[0m \u001b[31m8.0 MB/s\u001b[0m eta \u001b[36m0:00:00\u001b[0m\n",
            "\u001b[?25hDownloading gradio_client-1.7.1-py3-none-any.whl (321 kB)\n",
            "\u001b[2K   \u001b[90m━━━━━━━━━━━━━━━━━━━━━━━━━━━━━━━━━━━━━━━━\u001b[0m \u001b[32m322.0/322.0 kB\u001b[0m \u001b[31m6.4 MB/s\u001b[0m eta \u001b[36m0:00:00\u001b[0m\n",
            "\u001b[?25hDownloading aiofiles-23.2.1-py3-none-any.whl (15 kB)\n",
            "Downloading fastapi-0.115.8-py3-none-any.whl (94 kB)\n",
            "\u001b[2K   \u001b[90m━━━━━━━━━━━━━━━━━━━━━━━━━━━━━━━━━━━━━━━━\u001b[0m \u001b[32m94.8/94.8 kB\u001b[0m \u001b[31m5.4 MB/s\u001b[0m eta \u001b[36m0:00:00\u001b[0m\n",
            "\u001b[?25hDownloading MarkupSafe-2.1.5-cp311-cp311-manylinux_2_17_x86_64.manylinux2014_x86_64.whl (28 kB)\n",
            "Downloading python_multipart-0.0.20-py3-none-any.whl (24 kB)\n",
            "Downloading ruff-0.9.6-py3-none-manylinux_2_17_x86_64.manylinux2014_x86_64.whl (12.5 MB)\n",
            "\u001b[2K   \u001b[90m━━━━━━━━━━━━━━━━━━━━━━━━━━━━━━━━━━━━━━━━\u001b[0m \u001b[32m12.5/12.5 MB\u001b[0m \u001b[31m47.2 MB/s\u001b[0m eta \u001b[36m0:00:00\u001b[0m\n",
            "\u001b[?25hDownloading safehttpx-0.1.6-py3-none-any.whl (8.7 kB)\n",
            "Downloading semantic_version-2.10.0-py2.py3-none-any.whl (15 kB)\n",
            "Downloading starlette-0.45.3-py3-none-any.whl (71 kB)\n",
            "\u001b[2K   \u001b[90m━━━━━━━━━━━━━━━━━━━━━━━━━━━━━━━━━━━━━━━━\u001b[0m \u001b[32m71.5/71.5 kB\u001b[0m \u001b[31m2.9 MB/s\u001b[0m eta \u001b[36m0:00:00\u001b[0m\n",
            "\u001b[?25hDownloading tomlkit-0.13.2-py3-none-any.whl (37 kB)\n",
            "Downloading uvicorn-0.34.0-py3-none-any.whl (62 kB)\n",
            "\u001b[2K   \u001b[90m━━━━━━━━━━━━━━━━━━━━━━━━━━━━━━━━━━━━━━━━\u001b[0m \u001b[32m62.3/62.3 kB\u001b[0m \u001b[31m4.4 MB/s\u001b[0m eta \u001b[36m0:00:00\u001b[0m\n",
            "\u001b[?25hDownloading ffmpy-0.5.0-py3-none-any.whl (6.0 kB)\n",
            "Downloading pydub-0.25.1-py2.py3-none-any.whl (32 kB)\n",
            "Building wheels for collected packages: lightfm\n",
            "  Building wheel for lightfm (setup.py) ... \u001b[?25l\u001b[?25hdone\n",
            "  Created wheel for lightfm: filename=lightfm-1.17-cp311-cp311-linux_x86_64.whl size=831164 sha256=1371257d9ac0978be51a66a62f347e5d51b5a76f5b7e37eb233a53aaf3edc3c2\n",
            "  Stored in directory: /root/.cache/pip/wheels/b9/0d/8a/0729d2e6e3ca2a898ba55201f905da7db3f838a33df5b3fcdd\n",
            "Successfully built lightfm\n",
            "Installing collected packages: pydub, uvicorn, tomlkit, semantic-version, ruff, python-multipart, markupsafe, ffmpy, aiofiles, starlette, safehttpx, lightfm, gradio-client, fastapi, gradio\n",
            "  Attempting uninstall: markupsafe\n",
            "    Found existing installation: MarkupSafe 3.0.2\n",
            "    Uninstalling MarkupSafe-3.0.2:\n",
            "      Successfully uninstalled MarkupSafe-3.0.2\n",
            "\u001b[31mERROR: pip's dependency resolver does not currently take into account all the packages that are installed. This behaviour is the source of the following dependency conflicts.\n",
            "torch 2.5.1+cu124 requires nvidia-cublas-cu12==12.4.5.8; platform_system == \"Linux\" and platform_machine == \"x86_64\", but you have nvidia-cublas-cu12 12.5.3.2 which is incompatible.\n",
            "torch 2.5.1+cu124 requires nvidia-cuda-cupti-cu12==12.4.127; platform_system == \"Linux\" and platform_machine == \"x86_64\", but you have nvidia-cuda-cupti-cu12 12.5.82 which is incompatible.\n",
            "torch 2.5.1+cu124 requires nvidia-cuda-nvrtc-cu12==12.4.127; platform_system == \"Linux\" and platform_machine == \"x86_64\", but you have nvidia-cuda-nvrtc-cu12 12.5.82 which is incompatible.\n",
            "torch 2.5.1+cu124 requires nvidia-cuda-runtime-cu12==12.4.127; platform_system == \"Linux\" and platform_machine == \"x86_64\", but you have nvidia-cuda-runtime-cu12 12.5.82 which is incompatible.\n",
            "torch 2.5.1+cu124 requires nvidia-cudnn-cu12==9.1.0.70; platform_system == \"Linux\" and platform_machine == \"x86_64\", but you have nvidia-cudnn-cu12 9.3.0.75 which is incompatible.\n",
            "torch 2.5.1+cu124 requires nvidia-cufft-cu12==11.2.1.3; platform_system == \"Linux\" and platform_machine == \"x86_64\", but you have nvidia-cufft-cu12 11.2.3.61 which is incompatible.\n",
            "torch 2.5.1+cu124 requires nvidia-curand-cu12==10.3.5.147; platform_system == \"Linux\" and platform_machine == \"x86_64\", but you have nvidia-curand-cu12 10.3.6.82 which is incompatible.\n",
            "torch 2.5.1+cu124 requires nvidia-cusolver-cu12==11.6.1.9; platform_system == \"Linux\" and platform_machine == \"x86_64\", but you have nvidia-cusolver-cu12 11.6.3.83 which is incompatible.\n",
            "torch 2.5.1+cu124 requires nvidia-cusparse-cu12==12.3.1.170; platform_system == \"Linux\" and platform_machine == \"x86_64\", but you have nvidia-cusparse-cu12 12.5.1.3 which is incompatible.\n",
            "torch 2.5.1+cu124 requires nvidia-nvjitlink-cu12==12.4.127; platform_system == \"Linux\" and platform_machine == \"x86_64\", but you have nvidia-nvjitlink-cu12 12.5.82 which is incompatible.\u001b[0m\u001b[31m\n",
            "\u001b[0mSuccessfully installed aiofiles-23.2.1 fastapi-0.115.8 ffmpy-0.5.0 gradio-5.16.2 gradio-client-1.7.1 lightfm-1.17 markupsafe-2.1.5 pydub-0.25.1 python-multipart-0.0.20 ruff-0.9.6 safehttpx-0.1.6 semantic-version-2.10.0 starlette-0.45.3 tomlkit-0.13.2 uvicorn-0.34.0\n"
          ]
        }
      ],
      "source": [
        "!pip install gradio lightfm\n",
        "\n",
        "import os\n",
        "import kagglehub\n",
        "import tensorflow as tf\n",
        "import pandas as pd\n",
        "import numpy as np\n",
        "import gradio as gr\n",
        "import matplotlib.pyplot as plt\n",
        "\n",
        "from sklearn.model_selection import train_test_split\n",
        "from sklearn.preprocessing import StandardScaler\n",
        "from sklearn.preprocessing import MinMaxScaler\n",
        "from sklearn.preprocessing import MinMaxScaler\n",
        "from sklearn.metrics import accuracy_score\n",
        "from keras import layers, models\n",
        "\n",
        "from lightfm import LightFM\n",
        "from lightfm.data import Dataset\n",
        "from keras.models import Sequential\n",
        "from keras.layers import LSTM, Dense\n",
        "\n",
        "from scipy.sparse import csr_matrix"
      ]
    },
    {
      "cell_type": "markdown",
      "source": [
        "# **Downloading Dataset**\n",
        "This cell downloads the Fashion MNIST dataset from Kaggle using `kagglehub.dataset_download`. The dataset contains images of clothing items categorized into different classes. The path where the dataset is stored is printed for reference."
      ],
      "metadata": {
        "id": "C8VTe7Tg0U6h"
      }
    },
    {
      "cell_type": "code",
      "source": [
        "# save filepath to variable for easier access\n",
        "path = kagglehub.dataset_download(\"zalando-research/fashionmnist\")\n",
        "\n",
        "print(\"Path to dataset files:\", path)"
      ],
      "metadata": {
        "colab": {
          "base_uri": "https://localhost:8080/"
        },
        "id": "sSPvDdQOf6_l",
        "outputId": "59dd8770-729b-4f80-9113-d9d767f4d940"
      },
      "execution_count": null,
      "outputs": [
        {
          "output_type": "stream",
          "name": "stdout",
          "text": [
            "Warning: Looks like you're using an outdated `kagglehub` version (installed: 0.3.6), please consider upgrading to the latest version (0.3.7).\n",
            "Downloading from https://www.kaggle.com/api/v1/datasets/download/zalando-research/fashionmnist?dataset_version_number=4...\n"
          ]
        },
        {
          "output_type": "stream",
          "name": "stderr",
          "text": [
            "100%|██████████| 68.8M/68.8M [00:00<00:00, 168MB/s]"
          ]
        },
        {
          "output_type": "stream",
          "name": "stdout",
          "text": [
            "Extracting files...\n"
          ]
        },
        {
          "output_type": "stream",
          "name": "stderr",
          "text": [
            "\n"
          ]
        },
        {
          "output_type": "stream",
          "name": "stdout",
          "text": [
            "Path to dataset files: /root/.cache/kagglehub/datasets/zalando-research/fashionmnist/versions/4\n"
          ]
        }
      ]
    },
    {
      "cell_type": "markdown",
      "source": [
        "# **Loading Dataset**\n",
        "The dataset is read using `pd.read_csv()` and stored in a Pandas DataFrame named `train_df`. This allows for easy manipulation and preprocessing of the data."
      ],
      "metadata": {
        "id": "9zJLCJDp0asr"
      }
    },
    {
      "cell_type": "code",
      "source": [
        "# read the data and store data in dataframe titled train_df\n",
        "train_df = pd.read_csv(os.path.join(path, \"fashion-mnist_train.csv\"))"
      ],
      "metadata": {
        "id": "O9ddidqghvI2"
      },
      "execution_count": null,
      "outputs": []
    },
    {
      "cell_type": "markdown",
      "source": [
        "# **Viewing First Few Rows**\n",
        "The `head()` method is used to display the first few rows of the dataset. This helps to inspect the structure of the dataset, including its features and labels."
      ],
      "metadata": {
        "id": "WWIjG6bB0f7g"
      }
    },
    {
      "cell_type": "code",
      "source": [
        "train_df.head()"
      ],
      "metadata": {
        "colab": {
          "base_uri": "https://localhost:8080/",
          "height": 236
        },
        "id": "JoA4BYdciE9s",
        "outputId": "797ef8ed-853a-41c7-f5a8-663137c2ddfa"
      },
      "execution_count": null,
      "outputs": [
        {
          "output_type": "execute_result",
          "data": {
            "text/plain": [
              "   label  pixel1  pixel2  pixel3  pixel4  pixel5  pixel6  pixel7  pixel8  \\\n",
              "0      2       0       0       0       0       0       0       0       0   \n",
              "1      9       0       0       0       0       0       0       0       0   \n",
              "2      6       0       0       0       0       0       0       0       5   \n",
              "3      0       0       0       0       1       2       0       0       0   \n",
              "4      3       0       0       0       0       0       0       0       0   \n",
              "\n",
              "   pixel9  ...  pixel775  pixel776  pixel777  pixel778  pixel779  pixel780  \\\n",
              "0       0  ...         0         0         0         0         0         0   \n",
              "1       0  ...         0         0         0         0         0         0   \n",
              "2       0  ...         0         0         0        30        43         0   \n",
              "3       0  ...         3         0         0         0         0         1   \n",
              "4       0  ...         0         0         0         0         0         0   \n",
              "\n",
              "   pixel781  pixel782  pixel783  pixel784  \n",
              "0         0         0         0         0  \n",
              "1         0         0         0         0  \n",
              "2         0         0         0         0  \n",
              "3         0         0         0         0  \n",
              "4         0         0         0         0  \n",
              "\n",
              "[5 rows x 785 columns]"
            ],
            "text/html": [
              "\n",
              "  <div id=\"df-359ede8b-9435-41b2-aed4-c02d7869bc33\" class=\"colab-df-container\">\n",
              "    <div>\n",
              "<style scoped>\n",
              "    .dataframe tbody tr th:only-of-type {\n",
              "        vertical-align: middle;\n",
              "    }\n",
              "\n",
              "    .dataframe tbody tr th {\n",
              "        vertical-align: top;\n",
              "    }\n",
              "\n",
              "    .dataframe thead th {\n",
              "        text-align: right;\n",
              "    }\n",
              "</style>\n",
              "<table border=\"1\" class=\"dataframe\">\n",
              "  <thead>\n",
              "    <tr style=\"text-align: right;\">\n",
              "      <th></th>\n",
              "      <th>label</th>\n",
              "      <th>pixel1</th>\n",
              "      <th>pixel2</th>\n",
              "      <th>pixel3</th>\n",
              "      <th>pixel4</th>\n",
              "      <th>pixel5</th>\n",
              "      <th>pixel6</th>\n",
              "      <th>pixel7</th>\n",
              "      <th>pixel8</th>\n",
              "      <th>pixel9</th>\n",
              "      <th>...</th>\n",
              "      <th>pixel775</th>\n",
              "      <th>pixel776</th>\n",
              "      <th>pixel777</th>\n",
              "      <th>pixel778</th>\n",
              "      <th>pixel779</th>\n",
              "      <th>pixel780</th>\n",
              "      <th>pixel781</th>\n",
              "      <th>pixel782</th>\n",
              "      <th>pixel783</th>\n",
              "      <th>pixel784</th>\n",
              "    </tr>\n",
              "  </thead>\n",
              "  <tbody>\n",
              "    <tr>\n",
              "      <th>0</th>\n",
              "      <td>2</td>\n",
              "      <td>0</td>\n",
              "      <td>0</td>\n",
              "      <td>0</td>\n",
              "      <td>0</td>\n",
              "      <td>0</td>\n",
              "      <td>0</td>\n",
              "      <td>0</td>\n",
              "      <td>0</td>\n",
              "      <td>0</td>\n",
              "      <td>...</td>\n",
              "      <td>0</td>\n",
              "      <td>0</td>\n",
              "      <td>0</td>\n",
              "      <td>0</td>\n",
              "      <td>0</td>\n",
              "      <td>0</td>\n",
              "      <td>0</td>\n",
              "      <td>0</td>\n",
              "      <td>0</td>\n",
              "      <td>0</td>\n",
              "    </tr>\n",
              "    <tr>\n",
              "      <th>1</th>\n",
              "      <td>9</td>\n",
              "      <td>0</td>\n",
              "      <td>0</td>\n",
              "      <td>0</td>\n",
              "      <td>0</td>\n",
              "      <td>0</td>\n",
              "      <td>0</td>\n",
              "      <td>0</td>\n",
              "      <td>0</td>\n",
              "      <td>0</td>\n",
              "      <td>...</td>\n",
              "      <td>0</td>\n",
              "      <td>0</td>\n",
              "      <td>0</td>\n",
              "      <td>0</td>\n",
              "      <td>0</td>\n",
              "      <td>0</td>\n",
              "      <td>0</td>\n",
              "      <td>0</td>\n",
              "      <td>0</td>\n",
              "      <td>0</td>\n",
              "    </tr>\n",
              "    <tr>\n",
              "      <th>2</th>\n",
              "      <td>6</td>\n",
              "      <td>0</td>\n",
              "      <td>0</td>\n",
              "      <td>0</td>\n",
              "      <td>0</td>\n",
              "      <td>0</td>\n",
              "      <td>0</td>\n",
              "      <td>0</td>\n",
              "      <td>5</td>\n",
              "      <td>0</td>\n",
              "      <td>...</td>\n",
              "      <td>0</td>\n",
              "      <td>0</td>\n",
              "      <td>0</td>\n",
              "      <td>30</td>\n",
              "      <td>43</td>\n",
              "      <td>0</td>\n",
              "      <td>0</td>\n",
              "      <td>0</td>\n",
              "      <td>0</td>\n",
              "      <td>0</td>\n",
              "    </tr>\n",
              "    <tr>\n",
              "      <th>3</th>\n",
              "      <td>0</td>\n",
              "      <td>0</td>\n",
              "      <td>0</td>\n",
              "      <td>0</td>\n",
              "      <td>1</td>\n",
              "      <td>2</td>\n",
              "      <td>0</td>\n",
              "      <td>0</td>\n",
              "      <td>0</td>\n",
              "      <td>0</td>\n",
              "      <td>...</td>\n",
              "      <td>3</td>\n",
              "      <td>0</td>\n",
              "      <td>0</td>\n",
              "      <td>0</td>\n",
              "      <td>0</td>\n",
              "      <td>1</td>\n",
              "      <td>0</td>\n",
              "      <td>0</td>\n",
              "      <td>0</td>\n",
              "      <td>0</td>\n",
              "    </tr>\n",
              "    <tr>\n",
              "      <th>4</th>\n",
              "      <td>3</td>\n",
              "      <td>0</td>\n",
              "      <td>0</td>\n",
              "      <td>0</td>\n",
              "      <td>0</td>\n",
              "      <td>0</td>\n",
              "      <td>0</td>\n",
              "      <td>0</td>\n",
              "      <td>0</td>\n",
              "      <td>0</td>\n",
              "      <td>...</td>\n",
              "      <td>0</td>\n",
              "      <td>0</td>\n",
              "      <td>0</td>\n",
              "      <td>0</td>\n",
              "      <td>0</td>\n",
              "      <td>0</td>\n",
              "      <td>0</td>\n",
              "      <td>0</td>\n",
              "      <td>0</td>\n",
              "      <td>0</td>\n",
              "    </tr>\n",
              "  </tbody>\n",
              "</table>\n",
              "<p>5 rows × 785 columns</p>\n",
              "</div>\n",
              "    <div class=\"colab-df-buttons\">\n",
              "\n",
              "  <div class=\"colab-df-container\">\n",
              "    <button class=\"colab-df-convert\" onclick=\"convertToInteractive('df-359ede8b-9435-41b2-aed4-c02d7869bc33')\"\n",
              "            title=\"Convert this dataframe to an interactive table.\"\n",
              "            style=\"display:none;\">\n",
              "\n",
              "  <svg xmlns=\"http://www.w3.org/2000/svg\" height=\"24px\" viewBox=\"0 -960 960 960\">\n",
              "    <path d=\"M120-120v-720h720v720H120Zm60-500h600v-160H180v160Zm220 220h160v-160H400v160Zm0 220h160v-160H400v160ZM180-400h160v-160H180v160Zm440 0h160v-160H620v160ZM180-180h160v-160H180v160Zm440 0h160v-160H620v160Z\"/>\n",
              "  </svg>\n",
              "    </button>\n",
              "\n",
              "  <style>\n",
              "    .colab-df-container {\n",
              "      display:flex;\n",
              "      gap: 12px;\n",
              "    }\n",
              "\n",
              "    .colab-df-convert {\n",
              "      background-color: #E8F0FE;\n",
              "      border: none;\n",
              "      border-radius: 50%;\n",
              "      cursor: pointer;\n",
              "      display: none;\n",
              "      fill: #1967D2;\n",
              "      height: 32px;\n",
              "      padding: 0 0 0 0;\n",
              "      width: 32px;\n",
              "    }\n",
              "\n",
              "    .colab-df-convert:hover {\n",
              "      background-color: #E2EBFA;\n",
              "      box-shadow: 0px 1px 2px rgba(60, 64, 67, 0.3), 0px 1px 3px 1px rgba(60, 64, 67, 0.15);\n",
              "      fill: #174EA6;\n",
              "    }\n",
              "\n",
              "    .colab-df-buttons div {\n",
              "      margin-bottom: 4px;\n",
              "    }\n",
              "\n",
              "    [theme=dark] .colab-df-convert {\n",
              "      background-color: #3B4455;\n",
              "      fill: #D2E3FC;\n",
              "    }\n",
              "\n",
              "    [theme=dark] .colab-df-convert:hover {\n",
              "      background-color: #434B5C;\n",
              "      box-shadow: 0px 1px 3px 1px rgba(0, 0, 0, 0.15);\n",
              "      filter: drop-shadow(0px 1px 2px rgba(0, 0, 0, 0.3));\n",
              "      fill: #FFFFFF;\n",
              "    }\n",
              "  </style>\n",
              "\n",
              "    <script>\n",
              "      const buttonEl =\n",
              "        document.querySelector('#df-359ede8b-9435-41b2-aed4-c02d7869bc33 button.colab-df-convert');\n",
              "      buttonEl.style.display =\n",
              "        google.colab.kernel.accessAllowed ? 'block' : 'none';\n",
              "\n",
              "      async function convertToInteractive(key) {\n",
              "        const element = document.querySelector('#df-359ede8b-9435-41b2-aed4-c02d7869bc33');\n",
              "        const dataTable =\n",
              "          await google.colab.kernel.invokeFunction('convertToInteractive',\n",
              "                                                    [key], {});\n",
              "        if (!dataTable) return;\n",
              "\n",
              "        const docLinkHtml = 'Like what you see? Visit the ' +\n",
              "          '<a target=\"_blank\" href=https://colab.research.google.com/notebooks/data_table.ipynb>data table notebook</a>'\n",
              "          + ' to learn more about interactive tables.';\n",
              "        element.innerHTML = '';\n",
              "        dataTable['output_type'] = 'display_data';\n",
              "        await google.colab.output.renderOutput(dataTable, element);\n",
              "        const docLink = document.createElement('div');\n",
              "        docLink.innerHTML = docLinkHtml;\n",
              "        element.appendChild(docLink);\n",
              "      }\n",
              "    </script>\n",
              "  </div>\n",
              "\n",
              "\n",
              "<div id=\"df-3f54f4ae-d9ec-41b5-b99e-3f3324718842\">\n",
              "  <button class=\"colab-df-quickchart\" onclick=\"quickchart('df-3f54f4ae-d9ec-41b5-b99e-3f3324718842')\"\n",
              "            title=\"Suggest charts\"\n",
              "            style=\"display:none;\">\n",
              "\n",
              "<svg xmlns=\"http://www.w3.org/2000/svg\" height=\"24px\"viewBox=\"0 0 24 24\"\n",
              "     width=\"24px\">\n",
              "    <g>\n",
              "        <path d=\"M19 3H5c-1.1 0-2 .9-2 2v14c0 1.1.9 2 2 2h14c1.1 0 2-.9 2-2V5c0-1.1-.9-2-2-2zM9 17H7v-7h2v7zm4 0h-2V7h2v10zm4 0h-2v-4h2v4z\"/>\n",
              "    </g>\n",
              "</svg>\n",
              "  </button>\n",
              "\n",
              "<style>\n",
              "  .colab-df-quickchart {\n",
              "      --bg-color: #E8F0FE;\n",
              "      --fill-color: #1967D2;\n",
              "      --hover-bg-color: #E2EBFA;\n",
              "      --hover-fill-color: #174EA6;\n",
              "      --disabled-fill-color: #AAA;\n",
              "      --disabled-bg-color: #DDD;\n",
              "  }\n",
              "\n",
              "  [theme=dark] .colab-df-quickchart {\n",
              "      --bg-color: #3B4455;\n",
              "      --fill-color: #D2E3FC;\n",
              "      --hover-bg-color: #434B5C;\n",
              "      --hover-fill-color: #FFFFFF;\n",
              "      --disabled-bg-color: #3B4455;\n",
              "      --disabled-fill-color: #666;\n",
              "  }\n",
              "\n",
              "  .colab-df-quickchart {\n",
              "    background-color: var(--bg-color);\n",
              "    border: none;\n",
              "    border-radius: 50%;\n",
              "    cursor: pointer;\n",
              "    display: none;\n",
              "    fill: var(--fill-color);\n",
              "    height: 32px;\n",
              "    padding: 0;\n",
              "    width: 32px;\n",
              "  }\n",
              "\n",
              "  .colab-df-quickchart:hover {\n",
              "    background-color: var(--hover-bg-color);\n",
              "    box-shadow: 0 1px 2px rgba(60, 64, 67, 0.3), 0 1px 3px 1px rgba(60, 64, 67, 0.15);\n",
              "    fill: var(--button-hover-fill-color);\n",
              "  }\n",
              "\n",
              "  .colab-df-quickchart-complete:disabled,\n",
              "  .colab-df-quickchart-complete:disabled:hover {\n",
              "    background-color: var(--disabled-bg-color);\n",
              "    fill: var(--disabled-fill-color);\n",
              "    box-shadow: none;\n",
              "  }\n",
              "\n",
              "  .colab-df-spinner {\n",
              "    border: 2px solid var(--fill-color);\n",
              "    border-color: transparent;\n",
              "    border-bottom-color: var(--fill-color);\n",
              "    animation:\n",
              "      spin 1s steps(1) infinite;\n",
              "  }\n",
              "\n",
              "  @keyframes spin {\n",
              "    0% {\n",
              "      border-color: transparent;\n",
              "      border-bottom-color: var(--fill-color);\n",
              "      border-left-color: var(--fill-color);\n",
              "    }\n",
              "    20% {\n",
              "      border-color: transparent;\n",
              "      border-left-color: var(--fill-color);\n",
              "      border-top-color: var(--fill-color);\n",
              "    }\n",
              "    30% {\n",
              "      border-color: transparent;\n",
              "      border-left-color: var(--fill-color);\n",
              "      border-top-color: var(--fill-color);\n",
              "      border-right-color: var(--fill-color);\n",
              "    }\n",
              "    40% {\n",
              "      border-color: transparent;\n",
              "      border-right-color: var(--fill-color);\n",
              "      border-top-color: var(--fill-color);\n",
              "    }\n",
              "    60% {\n",
              "      border-color: transparent;\n",
              "      border-right-color: var(--fill-color);\n",
              "    }\n",
              "    80% {\n",
              "      border-color: transparent;\n",
              "      border-right-color: var(--fill-color);\n",
              "      border-bottom-color: var(--fill-color);\n",
              "    }\n",
              "    90% {\n",
              "      border-color: transparent;\n",
              "      border-bottom-color: var(--fill-color);\n",
              "    }\n",
              "  }\n",
              "</style>\n",
              "\n",
              "  <script>\n",
              "    async function quickchart(key) {\n",
              "      const quickchartButtonEl =\n",
              "        document.querySelector('#' + key + ' button');\n",
              "      quickchartButtonEl.disabled = true;  // To prevent multiple clicks.\n",
              "      quickchartButtonEl.classList.add('colab-df-spinner');\n",
              "      try {\n",
              "        const charts = await google.colab.kernel.invokeFunction(\n",
              "            'suggestCharts', [key], {});\n",
              "      } catch (error) {\n",
              "        console.error('Error during call to suggestCharts:', error);\n",
              "      }\n",
              "      quickchartButtonEl.classList.remove('colab-df-spinner');\n",
              "      quickchartButtonEl.classList.add('colab-df-quickchart-complete');\n",
              "    }\n",
              "    (() => {\n",
              "      let quickchartButtonEl =\n",
              "        document.querySelector('#df-3f54f4ae-d9ec-41b5-b99e-3f3324718842 button');\n",
              "      quickchartButtonEl.style.display =\n",
              "        google.colab.kernel.accessAllowed ? 'block' : 'none';\n",
              "    })();\n",
              "  </script>\n",
              "</div>\n",
              "\n",
              "    </div>\n",
              "  </div>\n"
            ],
            "application/vnd.google.colaboratory.intrinsic+json": {
              "type": "dataframe",
              "variable_name": "train_df"
            }
          },
          "metadata": {},
          "execution_count": 4
        }
      ]
    },
    {
      "cell_type": "markdown",
      "source": [
        "# **Data Preparation**\n",
        "The dataset is split into features (`x`) and labels (`y`). Features (`x`) contain pixel values of images, while labels (`y`) represent the corresponding clothing categories."
      ],
      "metadata": {
        "id": "wxqOKtFV0nNY"
      }
    },
    {
      "cell_type": "code",
      "source": [
        "# prepare the data\n",
        "x = train_df.iloc[:, 1:]\n",
        "y = train_df.iloc[:, 0]"
      ],
      "metadata": {
        "id": "xQPabFIimkjo"
      },
      "execution_count": null,
      "outputs": []
    },
    {
      "cell_type": "markdown",
      "source": [
        "# **Reshaping and Normalizing the Data**\n",
        "The dataset is reshaped to match the input format required by a convolutional neural network (CNN).\n",
        "- `x.values.reshape(x.shape[0], 28, 28, 1)`: Converts the dataset into a 4D array with a single channel (grayscale images).\n",
        "- `X = X / 255`: Normalizes pixel values to be between 0 and 1 for better model convergence."
      ],
      "metadata": {
        "id": "-dGIGdAV0wPh"
      }
    },
    {
      "cell_type": "code",
      "source": [
        "# reshape and normalize the data\n",
        "X = x.values.reshape(x.shape[0], 28, 28, 1)\n",
        "X = X / 255"
      ],
      "metadata": {
        "id": "slj9GjZrnroL"
      },
      "execution_count": null,
      "outputs": []
    },
    {
      "cell_type": "markdown",
      "source": [
        "# **Splitting the Data**\n",
        "The dataset is split into training and testing sets using an 80-20 split.\n",
        "- `train_test_split(X, y, test_size=0.2, random_state=42)`: Ensures that 20% of the dataset is reserved for testing while maintaining reproducibility with `random_state=42`."
      ],
      "metadata": {
        "id": "lpD4iT9M0zqC"
      }
    },
    {
      "cell_type": "code",
      "source": [
        "# split the data into training and testing sets\n",
        "x_train, x_test, y_train, y_test = train_test_split(X, y, test_size=0.2, random_state=42)"
      ],
      "metadata": {
        "id": "UYh5FMZSoAc_"
      },
      "execution_count": null,
      "outputs": []
    },
    {
      "cell_type": "markdown",
      "source": [
        "# **Building the CNN Model**\n",
        "A Convolutional Neural Network (CNN) is created using TensorFlow's `Sequential` API. The model consists of:\n",
        "- **Two convolutional layers (`Conv2D`)**: Extracts features from the image using 3×3 filters.\n",
        "- **Two max-pooling layers (`MaxPooling2D`)**: Reduces spatial dimensions while preserving important features.\n",
        "- **Flattening layer (`Flatten()`)**: Converts 2D feature maps into a 1D vector.\n",
        "- **Dense layers (`Dense(128, activation='relu')`, `Dense(10, activation='softmax')`)**: Performs classification into 10 categories using the softmax activation function."
      ],
      "metadata": {
        "id": "9oG9wX8S03_9"
      }
    },
    {
      "cell_type": "code",
      "source": [
        "# build the model\n",
        "model = models.Sequential([\n",
        "    layers.Conv2D(32, (3, 3), activation='relu', input_shape=(28, 28, 1)),\n",
        "    layers.MaxPooling2D((2, 2)),\n",
        "    layers.Conv2D(64, (3, 3), activation='relu'),\n",
        "    layers.MaxPooling2D((2, 2)),\n",
        "    layers.Flatten(),\n",
        "    layers.Dense(128, activation='relu'),\n",
        "    layers.Dense(10, activation='softmax')\n",
        "])"
      ],
      "metadata": {
        "colab": {
          "base_uri": "https://localhost:8080/"
        },
        "id": "XT3dos3qsYNi",
        "outputId": "45f1541a-dc08-4ead-d8bd-c6204887e84e"
      },
      "execution_count": null,
      "outputs": [
        {
          "output_type": "stream",
          "name": "stderr",
          "text": [
            "/usr/local/lib/python3.11/dist-packages/keras/src/layers/convolutional/base_conv.py:107: UserWarning: Do not pass an `input_shape`/`input_dim` argument to a layer. When using Sequential models, prefer using an `Input(shape)` object as the first layer in the model instead.\n",
            "  super().__init__(activity_regularizer=activity_regularizer, **kwargs)\n"
          ]
        }
      ]
    },
    {
      "cell_type": "markdown",
      "source": [
        "# **Compiling the Model**\n",
        "The model is compiled using:\n",
        "- `Adam optimizer`: Adjusts weights dynamically for faster convergence.\n",
        "- `Sparse Categorical Crossentropy loss function`: Suitable for multi-class classification with integer labels.\n",
        "- `Accuracy metric`: Evaluates the model’s performance."
      ],
      "metadata": {
        "id": "QAVoVPNS07G1"
      }
    },
    {
      "cell_type": "code",
      "source": [
        "# compile the model\n",
        "model.compile(optimizer='adam', loss='sparse_categorical_crossentropy', metrics=['accuracy'])"
      ],
      "metadata": {
        "id": "rfEhbLbitFjd"
      },
      "execution_count": null,
      "outputs": []
    },
    {
      "cell_type": "markdown",
      "source": [
        "# **Training the Model**\n",
        "The model is trained for 10 epochs using:\n",
        "- Training data (`x_train`, `y_train`).\n",
        "- Validation data (`x_test`, `y_test`).\n",
        "- `history = model.fit(...)` stores training metrics.\n",
        "- `model.save('./fashion_cnn.h5')` saves the trained model for future use."
      ],
      "metadata": {
        "id": "W74mle7m1ASu"
      }
    },
    {
      "cell_type": "code",
      "source": [
        "# train the model\n",
        "history = model.fit(x_train, y_train, epochs=10, validation_data=(x_test, y_test))\n",
        "model.save('./fashion_cnn.h5')  # Saves model to your current working directory"
      ],
      "metadata": {
        "colab": {
          "base_uri": "https://localhost:8080/"
        },
        "id": "xHjGdvGjtpRb",
        "outputId": "ddd3e4dd-f632-4ead-f361-acaf12b56038"
      },
      "execution_count": null,
      "outputs": [
        {
          "output_type": "stream",
          "name": "stdout",
          "text": [
            "Epoch 1/10\n",
            "\u001b[1m1500/1500\u001b[0m \u001b[32m━━━━━━━━━━━━━━━━━━━━\u001b[0m\u001b[37m\u001b[0m \u001b[1m57s\u001b[0m 37ms/step - accuracy: 0.7630 - loss: 0.6572 - val_accuracy: 0.8697 - val_loss: 0.3573\n",
            "Epoch 2/10\n",
            "\u001b[1m1500/1500\u001b[0m \u001b[32m━━━━━━━━━━━━━━━━━━━━\u001b[0m\u001b[37m\u001b[0m \u001b[1m53s\u001b[0m 35ms/step - accuracy: 0.8821 - loss: 0.3299 - val_accuracy: 0.8917 - val_loss: 0.3046\n",
            "Epoch 3/10\n",
            "\u001b[1m1500/1500\u001b[0m \u001b[32m━━━━━━━━━━━━━━━━━━━━\u001b[0m\u001b[37m\u001b[0m \u001b[1m93s\u001b[0m 42ms/step - accuracy: 0.8978 - loss: 0.2808 - val_accuracy: 0.8932 - val_loss: 0.2889\n",
            "Epoch 4/10\n",
            "\u001b[1m1500/1500\u001b[0m \u001b[32m━━━━━━━━━━━━━━━━━━━━\u001b[0m\u001b[37m\u001b[0m \u001b[1m82s\u001b[0m 43ms/step - accuracy: 0.9093 - loss: 0.2444 - val_accuracy: 0.9061 - val_loss: 0.2625\n",
            "Epoch 5/10\n",
            "\u001b[1m1500/1500\u001b[0m \u001b[32m━━━━━━━━━━━━━━━━━━━━\u001b[0m\u001b[37m\u001b[0m \u001b[1m75s\u001b[0m 38ms/step - accuracy: 0.9208 - loss: 0.2126 - val_accuracy: 0.9043 - val_loss: 0.2596\n",
            "Epoch 6/10\n",
            "\u001b[1m1500/1500\u001b[0m \u001b[32m━━━━━━━━━━━━━━━━━━━━\u001b[0m\u001b[37m\u001b[0m \u001b[1m76s\u001b[0m 34ms/step - accuracy: 0.9306 - loss: 0.1862 - val_accuracy: 0.8999 - val_loss: 0.2885\n",
            "Epoch 7/10\n",
            "\u001b[1m1500/1500\u001b[0m \u001b[32m━━━━━━━━━━━━━━━━━━━━\u001b[0m\u001b[37m\u001b[0m \u001b[1m86s\u001b[0m 37ms/step - accuracy: 0.9394 - loss: 0.1653 - val_accuracy: 0.9057 - val_loss: 0.2730\n",
            "Epoch 8/10\n",
            "\u001b[1m1500/1500\u001b[0m \u001b[32m━━━━━━━━━━━━━━━━━━━━\u001b[0m\u001b[37m\u001b[0m \u001b[1m82s\u001b[0m 37ms/step - accuracy: 0.9476 - loss: 0.1437 - val_accuracy: 0.9075 - val_loss: 0.2702\n",
            "Epoch 9/10\n",
            "\u001b[1m1500/1500\u001b[0m \u001b[32m━━━━━━━━━━━━━━━━━━━━\u001b[0m\u001b[37m\u001b[0m \u001b[1m53s\u001b[0m 35ms/step - accuracy: 0.9538 - loss: 0.1250 - val_accuracy: 0.9080 - val_loss: 0.2783\n",
            "Epoch 10/10\n",
            "\u001b[1m1500/1500\u001b[0m \u001b[32m━━━━━━━━━━━━━━━━━━━━\u001b[0m\u001b[37m\u001b[0m \u001b[1m78s\u001b[0m 33ms/step - accuracy: 0.9599 - loss: 0.1102 - val_accuracy: 0.9125 - val_loss: 0.2758\n"
          ]
        },
        {
          "output_type": "stream",
          "name": "stderr",
          "text": [
            "WARNING:absl:You are saving your model as an HDF5 file via `model.save()` or `keras.saving.save_model(model)`. This file format is considered legacy. We recommend using instead the native Keras format, e.g. `model.save('my_model.keras')` or `keras.saving.save_model(model, 'my_model.keras')`. \n"
          ]
        }
      ]
    },
    {
      "cell_type": "markdown",
      "source": [
        "# **Evaluating the Model**\n",
        "The trained model is tested on the test dataset using `model.evaluate()`.\n",
        "- The test accuracy is printed to assess the generalization capability of the model."
      ],
      "metadata": {
        "id": "hf2CEnbo1JAx"
      }
    },
    {
      "cell_type": "code",
      "source": [
        "# Evaluate the model\n",
        "test_loss, test_acc = model.evaluate(x_test, y_test)\n",
        "print('Test accuracy:', test_acc)"
      ],
      "metadata": {
        "colab": {
          "base_uri": "https://localhost:8080/"
        },
        "id": "SfzMD6ZztzvU",
        "outputId": "41e7ce06-bcaa-41b9-ab22-f5daea6c3e4a"
      },
      "execution_count": null,
      "outputs": [
        {
          "output_type": "stream",
          "name": "stdout",
          "text": [
            "\u001b[1m375/375\u001b[0m \u001b[32m━━━━━━━━━━━━━━━━━━━━\u001b[0m\u001b[37m\u001b[0m \u001b[1m7s\u001b[0m 17ms/step - accuracy: 0.9140 - loss: 0.2661\n",
            "Test accuracy: 0.9125000238418579\n"
          ]
        }
      ]
    },
    {
      "cell_type": "markdown",
      "source": [
        "# **Displaying Sample Predictions**\n",
        "A set of 5 sample images is displayed along with the model’s predicted labels.\n",
        "- Each image is reshaped and passed to `model.predict()`.\n",
        "- The predicted label is determined using `np.argmax()`.\n",
        "- The images are displayed using `matplotlib` with their corresponding predictions."
      ],
      "metadata": {
        "id": "Z6JkNmpq1Ps4"
      }
    },
    {
      "cell_type": "code",
      "source": [
        "# Display samples images with their predicted labels\n",
        "num_images = 5\n",
        "plt.figure(figsize=(10, 4))\n",
        "\n",
        "for i in range(num_images):\n",
        "    test_images = x_test[i].reshape(1, 28, 28, 1)\n",
        "    predicted_label = np.argmax(model.predict(test_images))\n",
        "\n",
        "    plt.subplot(1, num_images, i + 1)\n",
        "    plt.imshow(x_test[i].reshape(28, 28), cmap='gray')\n",
        "    plt.title(f\"Predicted: {predicted_label}\")\n",
        "    plt.axis('off')\n",
        "\n",
        "plt.tight_layout()\n",
        "plt.show()"
      ],
      "metadata": {
        "colab": {
          "base_uri": "https://localhost:8080/",
          "height": 328
        },
        "id": "umQHtUG2uDOf",
        "outputId": "23a40143-8aaa-4c5e-f79c-dbd22fbdee46"
      },
      "execution_count": null,
      "outputs": [
        {
          "output_type": "stream",
          "name": "stdout",
          "text": [
            "\u001b[1m1/1\u001b[0m \u001b[32m━━━━━━━━━━━━━━━━━━━━\u001b[0m\u001b[37m\u001b[0m \u001b[1m0s\u001b[0m 240ms/step\n",
            "\u001b[1m1/1\u001b[0m \u001b[32m━━━━━━━━━━━━━━━━━━━━\u001b[0m\u001b[37m\u001b[0m \u001b[1m0s\u001b[0m 89ms/step\n",
            "\u001b[1m1/1\u001b[0m \u001b[32m━━━━━━━━━━━━━━━━━━━━\u001b[0m\u001b[37m\u001b[0m \u001b[1m0s\u001b[0m 67ms/step\n",
            "\u001b[1m1/1\u001b[0m \u001b[32m━━━━━━━━━━━━━━━━━━━━\u001b[0m\u001b[37m\u001b[0m \u001b[1m0s\u001b[0m 73ms/step\n",
            "\u001b[1m1/1\u001b[0m \u001b[32m━━━━━━━━━━━━━━━━━━━━\u001b[0m\u001b[37m\u001b[0m \u001b[1m0s\u001b[0m 67ms/step\n"
          ]
        },
        {
          "output_type": "display_data",
          "data": {
            "text/plain": [
              "<Figure size 1000x400 with 5 Axes>"
            ],
            "image/png": "[encoded data removed]"
          },
          "metadata": {}
        }
      ]
    },
    {
      "cell_type": "markdown",
      "source": [
        "# **Loading Fashion MNIST Dataset from TensorFlow**\n",
        "Instead of downloading from Kaggle, the dataset can be loaded directly using `tf.keras.datasets.fashion_mnist.load_data()`. This provides training and test sets for further analysis."
      ],
      "metadata": {
        "id": "c-f7B6Kg1e4p"
      }
    },
    {
      "cell_type": "code",
      "source": [
        "# Load Fashion MNIST\n",
        "(train_images, train_labels), (test_images, test_labels) = tf.keras.datasets.fashion_mnist.load_data()"
      ],
      "metadata": {
        "colab": {
          "base_uri": "https://localhost:8080/"
        },
        "id": "fyJ5ZB8z9XMD",
        "outputId": "5e2e3e68-c9d9-4cb2-cd74-d18d3e54dc10"
      },
      "execution_count": null,
      "outputs": [
        {
          "output_type": "stream",
          "name": "stdout",
          "text": [
            "Downloading data from https://storage.googleapis.com/tensorflow/tf-keras-datasets/train-labels-idx1-ubyte.gz\n",
            "\u001b[1m29515/29515\u001b[0m \u001b[32m━━━━━━━━━━━━━━━━━━━━\u001b[0m\u001b[37m\u001b[0m \u001b[1m0s\u001b[0m 0us/step\n",
            "Downloading data from https://storage.googleapis.com/tensorflow/tf-keras-datasets/train-images-idx3-ubyte.gz\n",
            "\u001b[1m26421880/26421880\u001b[0m \u001b[32m━━━━━━━━━━━━━━━━━━━━\u001b[0m\u001b[37m\u001b[0m \u001b[1m0s\u001b[0m 0us/step\n",
            "Downloading data from https://storage.googleapis.com/tensorflow/tf-keras-datasets/t10k-labels-idx1-ubyte.gz\n",
            "\u001b[1m5148/5148\u001b[0m \u001b[32m━━━━━━━━━━━━━━━━━━━━\u001b[0m\u001b[37m\u001b[0m \u001b[1m0s\u001b[0m 1us/step\n",
            "Downloading data from https://storage.googleapis.com/tensorflow/tf-keras-datasets/t10k-images-idx3-ubyte.gz\n",
            "\u001b[1m4422102/4422102\u001b[0m \u001b[32m━━━━━━━━━━━━━━━━━━━━\u001b[0m\u001b[37m\u001b[0m \u001b[1m0s\u001b[0m 0us/step\n"
          ]
        }
      ]
    },
    {
      "cell_type": "markdown",
      "source": [
        "# **Generating Synthetic Sales Data**\n",
        "A mock dataset is created to simulate weekly sales trends for 100 weeks.\n",
        "- `date_range(start=\"2020-01-01\", periods=100, freq=\"W\")`: Generates weekly timestamps.\n",
        "- `category`: Randomly assigned categories from Fashion MNIST.\n",
        "- `sales_volume`: Random integer sales volume.\n",
        "- `social_mentions`: Random social media mentions to simulate popularity."
      ],
      "metadata": {
        "id": "F1T9T7b21lAo"
      }
    },
    {
      "cell_type": "code",
      "source": [
        "# Synthetic time-series sales data (mocked because we have no access to real time SM data)\n",
        "dates = pd.date_range(start=\"2020-01-01\", periods=100, freq=\"W\")\n",
        "sales_data = pd.DataFrame({\n",
        "    'date': dates,\n",
        "    'category': np.random.choice(10, 100),  # 10 Fashion MNIST categories\n",
        "    'sales_volume': np.random.randint(100, 1000, 100),\n",
        "    'social_mentions': np.random.randint(0, 500, 100)\n",
        "})"
      ],
      "metadata": {
        "id": "vqx_kVb48o35"
      },
      "execution_count": null,
      "outputs": []
    },
    {
      "cell_type": "markdown",
      "source": [
        "# **Generating Synthetic User Interaction Data**\n",
        "A dataset simulating user interactions with fashion items is created.\n",
        "- `user_id`: 50 users, each interacting with 20 items.\n",
        "- `item_id`: Randomly selected items.\n",
        "- `clicked`: 30% probability of clicking on an item.\n",
        "- `purchased`: 10% probability of purchasing an item.\n",
        "This data can be used for building recommendation models."
      ],
      "metadata": {
        "id": "HuJ8WGpy1oLX"
      }
    },
    {
      "cell_type": "code",
      "source": [
        "# Synthetic user interactions (user_id, item_id, rating)\n",
        "user_interactions = pd.DataFrame({\n",
        "    'user_id': np.repeat(np.arange(50), 20),\n",
        "    'item_id': np.random.choice(len(train_images), 1000),\n",
        "    'clicked': np.random.choice([0, 1], 1000, p=[0.7, 0.3]),\n",
        "    'purchased': np.random.choice([0, 1], 1000, p=[0.9, 0.1])\n",
        "})"
      ],
      "metadata": {
        "id": "02ijiKMC8s5f"
      },
      "execution_count": null,
      "outputs": []
    },
    {
      "cell_type": "markdown",
      "source": [
        "# **Time-Series Trend Prediction using LSTM**\n",
        "This section uses an LSTM (Long Short-Term Memory) network to predict future fashion trends based on historical sales and social media mentions.\n",
        "\n",
        "### Steps:\n",
        "1. **Preprocessing**:\n",
        "   - The dataset is scaled using `MinMaxScaler()` to normalize sales and social data between 0 and 1.\n",
        "2. **Sequence Creation**:\n",
        "   - A function `create_sequences()` is defined to generate input-output pairs for time-series forecasting.\n",
        "   - The data is split into overlapping sequences of 3 time steps each.\n",
        "3. **Model Training**:\n",
        "   - An LSTM-based neural network is built using `Sequential()`.\n",
        "   - The network consists of 50 LSTM units followed by a Dense output layer with 2 neurons (predicting sales volume & social mentions).\n",
        "   - The model is compiled with `adam` optimizer and trained for 20 epochs."
      ],
      "metadata": {
        "id": "Sog2oYYp1tud"
      }
    },
    {
      "cell_type": "code",
      "source": [
        "# Trend Prediction with Time-Series\n",
        "# Using LSTM to forecast future trends based on historical sales/social data.\n",
        "# Preprocess the time-series data\n",
        "scaler = MinMaxScaler()\n",
        "sales_data[['sales_volume', 'social_mentions']] = scaler.fit_transform(\n",
        "    sales_data[['sales_volume', 'social_mentions']]\n",
        ")"
      ],
      "metadata": {
        "id": "f2ejgNYA8vSU"
      },
      "execution_count": null,
      "outputs": []
    },
    {
      "cell_type": "markdown",
      "source": [
        "# **Building a Personalized Recommendation System**\n",
        "A hybrid recommendation model is developed by combining CNN-based image embeddings with user interaction data.\n",
        "\n",
        "### Step 1: Extract Image Features\n",
        "- A pre-trained CNN model (`fashion_cnn.h5`) is loaded.\n",
        "- Image embeddings are generated by passing the dataset through the CNN.\n",
        "\n",
        "### Step 2: Prepare Recommendation Dataset\n",
        "- The `lightfm.Dataset()` module is used to encode users and items.\n",
        "- Unique user IDs and item IDs are stored for collaborative filtering.\n",
        "\n",
        "This hybrid approach allows for improved recommendations by incorporating both user interaction data and image-based features."
      ],
      "metadata": {
        "id": "s_H9vEFJ1wYJ"
      }
    },
    {
      "cell_type": "code",
      "source": [
        "# Create sequences for LSTM\n",
        "def create_sequences(data, n_steps=3):\n",
        "    X, y = [], []\n",
        "    for i in range(len(data)-n_steps):\n",
        "        X.append(data[i:i+n_steps])\n",
        "        y.append(data[i+n_steps])\n",
        "    return np.array(X), np.array(y)\n",
        "\n",
        "X, y = create_sequences(sales_data[['sales_volume', 'social_mentions']].values)\n",
        "X = X.reshape((X.shape[0], X.shape[1], 2))"
      ],
      "metadata": {
        "id": "CY9ucjGH8ymH"
      },
      "execution_count": null,
      "outputs": []
    },
    {
      "cell_type": "code",
      "source": [
        "# Build LSTM model\n",
        "model_lstm = Sequential([\n",
        "    LSTM(50, activation='relu', input_shape=(3, 2)),\n",
        "    Dense(2)\n",
        "])\n",
        "model_lstm.compile(optimizer='adam', loss='mse')\n",
        "model_lstm.fit(X, y, epochs=20, verbose=0)"
      ],
      "metadata": {
        "colab": {
          "base_uri": "https://localhost:8080/"
        },
        "id": "EZHSSbXk81El",
        "outputId": "440bf1b5-fea1-4493-b6a9-9cc21bc74c14"
      },
      "execution_count": null,
      "outputs": [
        {
          "output_type": "stream",
          "name": "stderr",
          "text": [
            "/usr/local/lib/python3.11/dist-packages/keras/src/layers/rnn/rnn.py:200: UserWarning: Do not pass an `input_shape`/`input_dim` argument to a layer. When using Sequential models, prefer using an `Input(shape)` object as the first layer in the model instead.\n",
            "  super().__init__(**kwargs)\n"
          ]
        },
        {
          "output_type": "execute_result",
          "data": {
            "text/plain": [
              "<keras.src.callbacks.history.History at 0x7a25581a32d0>"
            ]
          },
          "metadata": {},
          "execution_count": 18
        }
      ]
    },
    {
      "cell_type": "code",
      "source": [
        "# 3. Personalized Recommendations\n",
        "# Improvement: Hybrid model using image features + user interactions.\n",
        "# Step 1: Extract image embeddings using trained CNN model\n",
        "model_cnn = tf.keras.models.load_model('/content/drive/MyDrive/Colab Notebooks/fashion_cnn.h5')  # Your trained CNN\n",
        "image_embeddings = model_cnn.predict(train_images.reshape(-1, 28, 28, 1))"
      ],
      "metadata": {
        "colab": {
          "base_uri": "https://localhost:8080/"
        },
        "id": "phABBJPp83wk",
        "outputId": "e682635a-4a25-48a8-fa02-486bf59d343d"
      },
      "execution_count": null,
      "outputs": [
        {
          "output_type": "stream",
          "name": "stderr",
          "text": [
            "WARNING:absl:Compiled the loaded model, but the compiled metrics have yet to be built. `model.compile_metrics` will be empty until you train or evaluate the model.\n"
          ]
        },
        {
          "output_type": "stream",
          "name": "stdout",
          "text": [
            "\u001b[1m1875/1875\u001b[0m \u001b[32m━━━━━━━━━━━━━━━━━━━━\u001b[0m\u001b[37m\u001b[0m \u001b[1m18s\u001b[0m 9ms/step\n"
          ]
        }
      ]
    },
    {
      "cell_type": "code",
      "source": [
        "# Step 2: Prepare recommendation dataset\n",
        "dataset = Dataset()\n",
        "dataset.fit(\n",
        "    users=user_interactions['user_id'].unique(),\n",
        "    items=user_interactions['item_id'].unique(),\n",
        ")"
      ],
      "metadata": {
        "id": "F84gmbk7892q"
      },
      "execution_count": null,
      "outputs": []
    },
    {
      "cell_type": "markdown",
      "source": [
        "# **Preparing Item Embeddings**\n",
        "This step ensures that the item embeddings are correctly ordered before passing them to the recommendation model.\n",
        "\n",
        "### Steps:\n",
        "1. **Extract Unique Items**:\n",
        "   - The unique item IDs from `user_interactions` are stored.\n",
        "2. **Arrange Image Embeddings**:\n",
        "   - The CNN-extracted image embeddings are reordered to align with item IDs.\n",
        "3. **Convert to Sparse Matrix**:\n",
        "   - The embeddings are stored in a `csr_matrix` format, which is memory efficient.\n",
        "4. **Fit Dataset with Item Features**:\n",
        "   - The `dataset.fit_partial()` function registers item features for later use in training."
      ],
      "metadata": {
        "id": "SRqL7YZz3LSP"
      }
    },
    {
      "cell_type": "code",
      "source": [
        "# Ensure item embeddings are in the correct order\n",
        "item_ids = user_interactions['item_id'].unique()\n",
        "item_embeddings_ordered = np.array([image_embeddings[item] for item in item_ids])\n",
        "\n",
        "# Convert to sparse matrix\n",
        "item_feature_matrix = csr_matrix(item_embeddings_ordered)\n",
        "\n",
        "# Fit dataset with item features\n",
        "dataset.fit_partial(items=item_ids, item_features=np.arange(item_feature_matrix.shape[1]))"
      ],
      "metadata": {
        "id": "gXv6_oK39iyU"
      },
      "execution_count": null,
      "outputs": []
    },
    {
      "cell_type": "markdown",
      "source": [
        "# **Building User-Item Interactions Matrix**\n",
        "A sparse matrix representation of user-item interactions is created.\n",
        "\n",
        "### Steps:\n",
        "1. **Extract User-Item-Purchase Triples**:\n",
        "   - Iterates through `user_interactions` to extract (user_id, item_id, purchased) tuples.\n",
        "2. **Build Interaction Matrix**:\n",
        "   - The interactions matrix is constructed using `dataset.build_interactions()`, where:\n",
        "     - Users who purchased an item contribute to the matrix.\n",
        "     - This is essential for training a hybrid recommendation model."
      ],
      "metadata": {
        "id": "Ju2ypdAk3Im-"
      }
    },
    {
      "cell_type": "code",
      "source": [
        "# Build interactions matrix\n",
        "interactions_matrix, _ = dataset.build_interactions(\n",
        "    [(row['user_id'], row['item_id'], row['purchased'])\n",
        "     for _, row in user_interactions.iterrows()]\n",
        ")"
      ],
      "metadata": {
        "id": "xDE-Ra1y9n7j"
      },
      "execution_count": null,
      "outputs": []
    },
    {
      "cell_type": "markdown",
      "source": [
        "# **Training the Hybrid Recommendation Model**\n",
        "A LightFM-based hybrid recommendation model is trained.\n",
        "\n",
        "### Model Details:\n",
        "- **30 latent factors** (`no_components=30`): Determines the dimensionality of item/user embeddings.\n",
        "- **WARP Loss Function** (`loss='warp'`): Optimizes for ranking-based recommendations.\n",
        "- **Epochs = 20**: The model is trained for 20 iterations.\n",
        "- **Uses both User-Item Interactions & Item Features**: Enhances recommendations by combining behavioral and content-based features."
      ],
      "metadata": {
        "id": "AnlnDXdG3F2V"
      }
    },
    {
      "cell_type": "code",
      "source": [
        "# Step 3: Train hybrid recommendation model\n",
        "model_lightfm = LightFM(no_components=30, loss='warp')\n",
        "model_lightfm.fit(interactions_matrix, item_features=item_feature_matrix, epochs=20)"
      ],
      "metadata": {
        "colab": {
          "base_uri": "https://localhost:8080/"
        },
        "id": "8K8XU88n9rur",
        "outputId": "a6e480d8-ad2e-4f21-8e05-b9b00abc2f8e"
      },
      "execution_count": null,
      "outputs": [
        {
          "output_type": "execute_result",
          "data": {
            "text/plain": [
              "<lightfm.lightfm.LightFM at 0x7a2514a6c910>"
            ]
          },
          "metadata": {},
          "execution_count": 23
        }
      ]
    },
    {
      "cell_type": "markdown",
      "source": [
        "# **Forecasting Future Trends**\n",
        "The trained LSTM model predicts future sales and social media mentions.\n",
        "\n",
        "### Steps:\n",
        "1. **Extract Last Known Sequence**:\n",
        "   - The last three known data points from `sales_data` are used for prediction.\n",
        "2. **Iterative Forecasting**:\n",
        "   - The LSTM model predicts one step ahead.\n",
        "   - The new prediction is appended to the sequence, and the process repeats for `future_steps = 4`.\n",
        "3. **Plot Forecast vs. Actual Data**:\n",
        "   - The forecasted values are plotted alongside historical data.\n",
        "   - The inverse transform is applied to return values to their original scale."
      ],
      "metadata": {
        "id": "diozvcuV3DRM"
      }
    },
    {
      "cell_type": "code",
      "source": [
        "# Plot trend forecast\n",
        "future_steps = 4\n",
        "last_sequence = sales_data[['sales_volume', 'social_mentions']].values[-3:]\n",
        "forecast = []\n",
        "for _ in range(future_steps):\n",
        "    pred = model_lstm.predict(last_sequence[np.newaxis, ...])\n",
        "    forecast.append(pred[0])\n",
        "    last_sequence = np.vstack([last_sequence[1:], pred])\n",
        "\n",
        "plt.plot(scaler.inverse_transform(sales_data[['sales_volume', 'social_mentions']]))\n",
        "plt.plot(np.arange(len(sales_data), len(sales_data)+4),\n",
        "         scaler.inverse_transform(forecast))\n",
        "plt.legend(['Historical Sales', 'Historical Mentions', 'Forecast Sales', 'Forecast Mentions'])\n",
        "plt.title(\"Trend Prediction for Fashion Categories\")"
      ],
      "metadata": {
        "colab": {
          "base_uri": "https://localhost:8080/",
          "height": 539
        },
        "id": "sbmlqQRf9uf7",
        "outputId": "f3b76e3d-986e-4b6f-cb8d-c19128f5973d"
      },
      "execution_count": null,
      "outputs": [
        {
          "output_type": "stream",
          "name": "stdout",
          "text": [
            "\u001b[1m1/1\u001b[0m \u001b[32m━━━━━━━━━━━━━━━━━━━━\u001b[0m\u001b[37m\u001b[0m \u001b[1m0s\u001b[0m 187ms/step\n",
            "\u001b[1m1/1\u001b[0m \u001b[32m━━━━━━━━━━━━━━━━━━━━\u001b[0m\u001b[37m\u001b[0m \u001b[1m0s\u001b[0m 36ms/step\n",
            "\u001b[1m1/1\u001b[0m \u001b[32m━━━━━━━━━━━━━━━━━━━━\u001b[0m\u001b[37m\u001b[0m \u001b[1m0s\u001b[0m 35ms/step\n",
            "\u001b[1m1/1\u001b[0m \u001b[32m━━━━━━━━━━━━━━━━━━━━\u001b[0m\u001b[37m\u001b[0m \u001b[1m0s\u001b[0m 40ms/step\n"
          ]
        },
        {
          "output_type": "execute_result",
          "data": {
            "text/plain": [
              "Text(0.5, 1.0, 'Trend Prediction for Fashion Categories')"
            ]
          },
          "metadata": {},
          "execution_count": 24
        },
        {
          "output_type": "display_data",
          "data": {
            "text/plain": [
              "<Figure size 640x480 with 1 Axes>"
            ],
            "image/png": "[encoded data removed]"
          },
          "metadata": {}
        }
      ]
    },
    {
      "cell_type": "markdown",
      "source": [
        "# **Generating Personalized Recommendations**\n",
        "A function `recommend_for_user()` generates top-N recommendations for a given user.\n",
        "\n",
        "### How It Works:\n",
        "1. **Get All Item IDs**:\n",
        "   - Creates an array of all possible item indices.\n",
        "2. **Repeat User ID**:\n",
        "   - Creates an array with the same user ID repeated for each item.\n",
        "3. **Predict Scores**:\n",
        "   - Uses `model_lightfm.predict()` to generate a score for each item.\n",
        "4. **Select Top-N Items**:\n",
        "   - Returns the top `num_items` recommendations based on the highest scores."
      ],
      "metadata": {
        "id": "6eH3PCM-24cm"
      }
    },
    {
      "cell_type": "code",
      "source": [
        "# Generate personalized recommendations\n",
        "def recommend_for_user(user_id, num_items=5):\n",
        "    # Create array of all possible item indices\n",
        "    all_items = np.arange(len(item_ids))\n",
        "\n",
        "    # Create arrays of the same user_id repeated for each item\n",
        "    user_ids = np.full_like(all_items, user_id)\n",
        "\n",
        "    # Get predictions for all items for this user\n",
        "    scores = model_lightfm.predict(\n",
        "        user_ids=user_ids,\n",
        "        item_ids=all_items,\n",
        "        item_features=item_feature_matrix\n",
        "    )\n",
        "\n",
        "    # Get top N items\n",
        "    top_items = np.argsort(-scores)[:num_items]\n",
        "\n",
        "    # Map indices back to original item IDs\n",
        "    recommended_item_ids = [item_ids[idx] for idx in top_items]\n",
        "\n",
        "    # Get the actual images\n",
        "    return [train_images[item_id] for item_id in recommended_item_ids]"
      ],
      "metadata": {
        "id": "yeVvedeu9xDK"
      },
      "execution_count": null,
      "outputs": []
    },
    {
      "cell_type": "markdown",
      "source": [
        "# **Deploying the Recommendation System with Gradio**\n",
        "A simple web-based interface is created using `Gradio` to allow users to input their ID and receive personalized recommendations.\n",
        "\n",
        "### Features:\n",
        "- **User ID Validation**:\n",
        "  - Checks if the provided user ID exists in the training data.\n",
        "- **Visualization of Recommendations**:\n",
        "  - Displays images of the top 5 recommended items using Matplotlib subplots.\n",
        "- **Interactive Web App**:\n",
        "  - Users can enter their ID and receive real-time recommendations."
      ],
      "metadata": {
        "id": "r7tbSldI21yk"
      }
    },
    {
      "cell_type": "code",
      "source": [
        "# ## 5. Deployment Demo\n",
        "# **Improvement**: Show real-world applicability with Gradio.\n",
        "\n",
        "def recommend_and_show(user_id: int):\n",
        "    try:\n",
        "        # Validate user_id\n",
        "        if user_id not in user_interactions['user_id'].unique():\n",
        "            raise ValueError(f\"User ID {user_id} not found in training data\")\n",
        "\n",
        "        recommendations = recommend_for_user(int(user_id))\n",
        "\n",
        "        # Create a figure with subplots for each recommendation\n",
        "        fig, axes = plt.subplots(1, 5, figsize=(15, 3))\n",
        "        images = []\n",
        "\n",
        "        for idx, (img, ax) in enumerate(zip(recommendations, axes)):\n",
        "            ax.imshow(img, cmap='gray')\n",
        "            ax.axis('off')\n",
        "            ax.set_title(f'Item {idx+1}')\n",
        "\n",
        "        plt.tight_layout()\n",
        "        return fig\n",
        "    except Exception as e:\n",
        "        raise gr.Error(str(e))\n",
        "\n",
        "# Update the Gradio interface\n",
        "interface = gr.Interface(\n",
        "    fn=recommend_and_show,\n",
        "    inputs=gr.Number(label=\"User ID\", minimum=0, step=1),\n",
        "    outputs=gr.Plot(),\n",
        "    title=\"Personalized Fashion Recommendations\",\n",
        "    description=\"Enter a user ID to see personalized fashion recommendations\"\n",
        ")\n",
        "\n",
        "if __name__ == \"__main__\":\n",
        "    interface.launch()"
      ],
      "metadata": {
        "colab": {
          "base_uri": "https://localhost:8080/",
          "height": 646
        },
        "id": "Ar81bpqD95ib",
        "outputId": "dd037414-fbfd-45bd-86a1-1cd9fe233055"
      },
      "execution_count": null,
      "outputs": [
        {
          "output_type": "stream",
          "name": "stdout",
          "text": [
            "Running Gradio in a Colab notebook requires sharing enabled. Automatically setting `share=True` (you can turn this off by setting `share=False` in `launch()` explicitly).\n",
            "\n",
            "Colab notebook detected. To show errors in colab notebook, set debug=True in launch()\n",
            "* Running on public URL: https://8066dc153277eb952d.gradio.live\n",
            "\n",
            "This share link expires in 72 hours. For free permanent hosting and GPU upgrades, run `gradio deploy` from the terminal in the working directory to deploy to Hugging Face Spaces (https://huggingface.co/spaces)\n"
          ]
        },
        {
          "output_type": "display_data",
          "data": {
            "text/plain": [
              "<IPython.core.display.HTML object>"
            ],
            "text/html": [
              "<div><iframe src=\"https://8066dc153277eb952d.gradio.live\" width=\"100%\" height=\"500\" allow=\"autoplay; camera; microphone; clipboard-read; clipboard-write;\" frameborder=\"0\" allowfullscreen></iframe></div>"
            ]
          },
          "metadata": {}
        }
      ]
    },
    {
      "cell_type": "code",
      "source": [],
      "metadata": {
        "id": "qGGNwsVfBA2O"
      },
      "execution_count": null,
      "outputs": []
    }
  ]
}